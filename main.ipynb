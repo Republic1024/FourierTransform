{
 "cells": [
  {
   "cell_type": "code",
   "outputs": [
    {
     "data": {
      "text/plain": "([0.0, 1.0, 2.0, 3.0, 4.0, 5.0],\n [0.0,\n  1.0747017074255294,\n  4.552509488189635,\n  4.552509488189634,\n  1.0747017074255307,\n  7.245990181195059e-16],\n [0.0,\n  1.5707963267948966,\n  -1.5707963267948963,\n  -1.5707963267948963,\n  1.5707963267948972,\n  1.5707963267948966])"
     },
     "execution_count": 13,
     "metadata": {},
     "output_type": "execute_result"
    }
   ],
   "source": [
    "import math\n",
    "import cmath\n",
    "\n",
    "\n",
    "def dft_with_phase(f_t, t):\n",
    "    \"\"\"\n",
    "    计算离散傅里叶变换，并提取幅度和相位\n",
    "    输入：\n",
    "    - f_t: 信号值列表\n",
    "    - t: 时间点列表\n",
    "    输出：\n",
    "    - freqs: 频率列表\n",
    "    - amplitudes: 幅度列表\n",
    "    - phases: 相位列表\n",
    "    \"\"\"\n",
    "    N = len(f_t)\n",
    "    delta_t = t[1] - t[0]\n",
    "    freqs = [k / (N * delta_t) for k in range(N)]\n",
    "    F_k = []\n",
    "\n",
    "    for k in range(N):\n",
    "        sum_real = 0\n",
    "        sum_imag = 0\n",
    "        for n in range(N):\n",
    "            angle = -2 * math.pi * k * n / N\n",
    "            sum_real += f_t[n] * math.cos(angle)\n",
    "            sum_imag += f_t[n] * math.sin(angle)\n",
    "        #     print(k, sum_real, sum_imag)\n",
    "        # print(\"-------------------------\")  \n",
    "        F_k.append(complex(sum_real, sum_imag))\n",
    "\n",
    "    # 计算幅度和相位\n",
    "    amplitudes = [abs(F_k[k]) * 2 / N for k in range(N)]\n",
    "    phases = [cmath.phase(F_k[k]) for k in range(N)]\n",
    "\n",
    "    # 只取前半部分\n",
    "    half_N = N // 2\n",
    "    freqs = freqs[:half_N + 1]\n",
    "    amplitudes = amplitudes[:half_N + 1]\n",
    "    phases = phases[:half_N + 1]\n",
    "\n",
    "    return freqs, amplitudes, phases\n",
    "\n",
    "\n",
    "# 输入采样数据\n",
    "t = [0, 0.1, 0.2, 0.3, 0.4, 0.5, 0.6, 0.7, 0.8, 0.9]\n",
    "f_t = [0, 7.396, 0, -7.396, 0, 0, 0, 7.396, 0, -7.396]\n",
    "dft_with_phase(f_t, t)"
   ],
   "metadata": {
    "collapsed": false,
    "ExecuteTime": {
     "end_time": "2024-09-29T09:24:14.258737500Z",
     "start_time": "2024-09-29T09:24:14.249481700Z"
    }
   },
   "id": "dd13761cc2b8238d",
   "execution_count": 13
  },
  {
   "cell_type": "code",
   "outputs": [],
   "source": [
    "def reconstruct_signal(freqs, amplitudes, phases, t_values):\n",
    "    \"\"\"\n",
    "    重构信号\n",
    "    输入：\n",
    "    - freqs: 频率列表\n",
    "    - amplitudes: 幅度列表\n",
    "    - phases: 相位列表\n",
    "    - t_values: 时间点列表\n",
    "    输出：\n",
    "    - 重构的信号值列表 f(t)\n",
    "    \"\"\"\n",
    "    reconstructed_f_t = []\n",
    "    for t in t_values:\n",
    "        value = 0\n",
    "        for f, A, phi in zip(freqs, amplitudes, phases):\n",
    "            value += A * math.cos(2 * math.pi * f * t + phi)\n",
    "            # print(f, A, phi)\n",
    "        reconstructed_f_t.append(value)\n",
    "    return reconstructed_f_t\n",
    "\n",
    "# def"
   ],
   "metadata": {
    "collapsed": false,
    "ExecuteTime": {
     "end_time": "2024-09-29T09:24:14.296863900Z",
     "start_time": "2024-09-29T09:24:14.260766600Z"
    }
   },
   "id": "e797d762a368571e",
   "execution_count": 14
  },
  {
   "cell_type": "code",
   "outputs": [
    {
     "name": "stdout",
     "output_type": "stream",
     "text": [
      "原始 f(t):\n",
      "[0, 7.396, 0, -7.396, 0, 0, 0, 7.396, 0, -7.396]\n",
      "\n",
      "重构的 f(t):\n",
      "[0.0, 7.396, 0.0, -7.396, -0.0, 0.0, 0.0, 7.396, 0.0, -7.396]\n"
     ]
    }
   ],
   "source": [
    "# 输入采样数据\n",
    "t = [0, 0.1, 0.2, 0.3, 0.4, 0.5, 0.6, 0.7, 0.8, 0.9]\n",
    "f_t = [0, 7.396, 0, -7.396, 0, 0, 0, 7.396, 0, -7.396]\n",
    "\n",
    "# 计算傅里叶变换\n",
    "freqs, amplitudes, phases = dft_with_phase(f_t, t)\n",
    "# print(freqs, amplitudes, phases)\n",
    "# 重构信号\n",
    "reconstructed_f_t = reconstruct_signal(freqs, amplitudes, phases, [0.1 * i for i in range(10)])\n",
    "\n",
    "# 输出重构的信号值\n",
    "print(\"原始 f(t):\")\n",
    "print(f_t)\n",
    "print(\"\\n重构的 f(t):\")\n",
    "print([round(val, 3) for val in reconstructed_f_t])\n"
   ],
   "metadata": {
    "collapsed": false,
    "ExecuteTime": {
     "end_time": "2024-09-29T09:24:14.296863900Z",
     "start_time": "2024-09-29T09:24:14.276548900Z"
    }
   },
   "id": "4db491ad4641a08f",
   "execution_count": 15
  },
  {
   "cell_type": "code",
   "outputs": [
    {
     "data": {
      "text/plain": "([0.0, 7.396, 0.0, -7.396, -0.0, 0.0, 0.0, 7.396, 0.0, -7.396],\n [0, 7.396, 0, -7.396, 0, 0, 0, 7.396, 0, -7.396])"
     },
     "execution_count": 16,
     "metadata": {},
     "output_type": "execute_result"
    }
   ],
   "source": [
    "\n",
    "# 定义使用的简化后 Lambda 函数\n",
    "f_t_rebuild = lambda t: sum(\n",
    "    A * math.cos(2 * math.pi * f * t + phi)\n",
    "    for f, A, phi in zip(freqs, amplitudes, phases)\n",
    ")\n",
    "\n",
    "[round(f_t_rebuild(t * 1.0 / 10), 3) for t in range(10)], f_t"
   ],
   "metadata": {
    "collapsed": false,
    "ExecuteTime": {
     "end_time": "2024-09-29T09:24:14.316113800Z",
     "start_time": "2024-09-29T09:24:14.291351700Z"
    }
   },
   "id": "49dcbae63029dd24",
   "execution_count": 16
  },
  {
   "cell_type": "code",
   "outputs": [
    {
     "name": "stdout",
     "output_type": "stream",
     "text": [
      "run.bat 文件已生成！\n"
     ]
    }
   ],
   "source": [
    "import os\n",
    "\n",
    "# 获取当前文件夹名\n",
    "current_directory = os.getcwd()\n",
    "folder_name = os.path.basename(current_directory)\n",
    "\n",
    "# 要执行的CMD命令\n",
    "cmd_commands = [\n",
    "    f':: 获取当前文件夹名\\nfor %%I in (\"%%cd%%\") do set \"folder_name={folder_name}\"',\n",
    "    f':: 使用当前文件夹名创建一个新的 GitHub 仓库\\ngh repo create \"{folder_name}\" --public',\n",
    "    ':: 初始化一个新的 Git 仓库\\ngit init',\n",
    "    f':: 将远程仓库添加为 origin\\ngit remote add origin https://github.com/Republic1024/{folder_name}.git',\n",
    "    ':: 从远程仓库的 main 分支拉取最新代码\\ngit pull origin main',\n",
    "    ':: 移除未跟踪的文件，例如 .DS_Store（Mac 系统生成的隐藏文件）\\ndel /F /Q .DS_Store',\n",
    "    ':: 将所有更改添加到暂存区，排除 .pth 文件\\ngit add .',\n",
    "    ':: 提交暂存区的更改并添加提交信息\\ngit commit -m \"Initial commit or merge or rebase remote changes\"',\n",
    "    ':: 将本地的 main 分支变基到远程 main 分支的最新提交\\ngit branch -M main',\n",
    "    ':: 将本地 main 分支的更改推送到远程 main 分支\\ngit push -u origin main'\n",
    "]\n",
    "\n",
    "### 优化后的 Prompt (中文)：\n",
    "# \n",
    "# 将项目内容完整翻译为中文，并根据项目性质生成 README.md 文件，以教程或使用说明的形式【根据项目内容自动识别】，适用于 GitHub 项目。README.md 文件应包括：\n",
    "# \n",
    "# - **项目简介**：简要说明项目的目的、作用及应用场景。\n",
    "# - **环境要求**：列出所需的软件、工具及安装说明。\n",
    "# - **代码详解**：详细解释每一部分代码的功能、输入、输出、步骤，必要时进行逐步讲解。\n",
    "# - **运行示例**：提供运行代码的示例，展示执行步骤及结果输出。\n",
    "# - **命令行用法【如果说存在】**：若适用，展示在命令行下的使用方法及相关参数说明。\n",
    "# - **输出结果说明**：解析代码运行后的输出结果，解释其含义。\n",
    "# \n",
    "# 确保文档结构清晰，语言通顺，适合读者快速上手项目。\n",
    "\n",
    "# 将命令写入到run.bat文件\n",
    "with open(\"run.bat\", \"w\", encoding=\"utf-8\") as f:\n",
    "    f.write(\"\\n\\n\".join(cmd_commands))\n",
    "\n",
    "print(\"run.bat 文件已生成！\")\n"
   ],
   "metadata": {
    "collapsed": false,
    "ExecuteTime": {
     "end_time": "2024-09-29T09:31:35.414651400Z",
     "start_time": "2024-09-29T09:31:35.405100500Z"
    }
   },
   "id": "7165178efcaa718a",
   "execution_count": 21
  },
  {
   "cell_type": "code",
   "outputs": [
    {
     "name": "stderr",
     "output_type": "stream",
     "text": [
      "[NbConvertApp] Converting notebook main.ipynb to markdown\n",
      "[NbConvertApp] Writing 4892 bytes to main.md\n"
     ]
    }
   ],
   "source": [
    "!jupyter nbconvert --to markdown main.ipynb"
   ],
   "metadata": {
    "collapsed": false,
    "ExecuteTime": {
     "end_time": "2024-09-29T09:24:15.811895100Z",
     "start_time": "2024-09-29T09:24:14.320203500Z"
    }
   },
   "id": "4f05d469fbb59688",
   "execution_count": 18
  }
 ],
 "metadata": {
  "kernelspec": {
   "display_name": "Python 3",
   "language": "python",
   "name": "python3"
  },
  "language_info": {
   "codemirror_mode": {
    "name": "ipython",
    "version": 2
   },
   "file_extension": ".py",
   "mimetype": "text/x-python",
   "name": "python",
   "nbconvert_exporter": "python",
   "pygments_lexer": "ipython2",
   "version": "2.7.6"
  }
 },
 "nbformat": 4,
 "nbformat_minor": 5
}
